{
 "cells": [
  {
   "cell_type": "markdown",
   "id": "024edd51",
   "metadata": {},
   "source": [
    "# DATA ANALYST\n",
    "### DATASET: UDEMY COURSES\n",
    "###### PREPARED BY: JOE MANDE\n",
    "###### TOOL USED: PYTHON FOR DATA ANALYSIS"
   ]
  },
  {
   "cell_type": "markdown",
   "id": "e5b51890",
   "metadata": {},
   "source": [
    "### TABLE OF CONTENTS\n",
    "\n",
    "1. IMPORT PYTHON LIBARIES\n",
    "2. LOADING THE DATASET\n",
    "3. DATA CONSOLIDATION\n",
    "4. DATA CLEANING\n",
    "5. DATA ANALYSIS AND DATA VISUALIZATION"
   ]
  },
  {
   "cell_type": "markdown",
   "id": "8bf14f6b",
   "metadata": {},
   "source": [
    "### 1. IMPORT PYTHON LIBRARIES\n",
    "\n",
    "##### Numpy Libraries\n",
    "- For data consolidation.\n",
    "\n",
    "##### Pandas Libraries\n",
    "- To load the dataset.\n",
    "- For data cleaning and data analysis.\n",
    "\n",
    "##### Matplotlib Libraries\n",
    "- For data visualization."
   ]
  },
  {
   "cell_type": "code",
   "execution_count": 1,
   "id": "e251e5d5",
   "metadata": {},
   "outputs": [],
   "source": [
    "import numpy as np\n",
    "import pandas as pd\n",
    "import matplotlib.pyplot as plt"
   ]
  },
  {
   "cell_type": "markdown",
   "id": "d298c5b6",
   "metadata": {},
   "source": [
    "### 2. LOADING THE DATASET\n",
    "\n",
    "Four datasets were loaded for each course:\n",
    "- Business Finance\n",
    "- Music Instruments\n",
    "- Web Development\n",
    "- Graphic Design"
   ]
  },
  {
   "cell_type": "code",
   "execution_count": 2,
   "id": "f546a8bf",
   "metadata": {
    "scrolled": true
   },
   "outputs": [],
   "source": [
    "business_finance = pd.read_csv('/Users/joemande/Downloads/business.csv')\n",
    "music_instruments = pd.read_csv('/Users/joemande/Downloads/music.csv')\n",
    "web_development = pd.read_csv('/Users/joemande/Downloads/web.csv')\n",
    "graphic_design = pd.read_csv('/Users/joemande/Downloads/design.csv')"
   ]
  },
  {
   "cell_type": "markdown",
   "id": "3b9823fd",
   "metadata": {},
   "source": [
    "### 3. DATA CONSOLIDATION\n",
    "\n",
    "The four datasets were consolidated to make one dataset."
   ]
  },
  {
   "cell_type": "code",
   "execution_count": 3,
   "id": "c6095304",
   "metadata": {},
   "outputs": [
    {
     "data": {
      "text/html": [
       "<div>\n",
       "<style scoped>\n",
       "    .dataframe tbody tr th:only-of-type {\n",
       "        vertical-align: middle;\n",
       "    }\n",
       "\n",
       "    .dataframe tbody tr th {\n",
       "        vertical-align: top;\n",
       "    }\n",
       "\n",
       "    .dataframe thead th {\n",
       "        text-align: right;\n",
       "    }\n",
       "</style>\n",
       "<table border=\"1\" class=\"dataframe\">\n",
       "  <thead>\n",
       "    <tr style=\"text-align: right;\">\n",
       "      <th></th>\n",
       "      <th>0</th>\n",
       "      <th>1</th>\n",
       "      <th>2</th>\n",
       "      <th>3</th>\n",
       "      <th>4</th>\n",
       "      <th>5</th>\n",
       "      <th>6</th>\n",
       "      <th>7</th>\n",
       "      <th>8</th>\n",
       "      <th>9</th>\n",
       "      <th>10</th>\n",
       "      <th>11</th>\n",
       "    </tr>\n",
       "  </thead>\n",
       "  <tbody>\n",
       "    <tr>\n",
       "      <th>0</th>\n",
       "      <td>49798.0</td>\n",
       "      <td>Bitcoin or How I Learned to Stop Worrying and ...</td>\n",
       "      <td>https://www.udemy.com/bitcoin-or-how-i-learned...</td>\n",
       "      <td>0.0</td>\n",
       "      <td>65576.0</td>\n",
       "      <td>936.0</td>\n",
       "      <td>24.0</td>\n",
       "      <td>All Levels</td>\n",
       "      <td>0.56</td>\n",
       "      <td>8.0</td>\n",
       "      <td>2013-04-20T02:25:22Z</td>\n",
       "      <td>Business Finance</td>\n",
       "    </tr>\n",
       "    <tr>\n",
       "      <th>1</th>\n",
       "      <td>48841.0</td>\n",
       "      <td>Accounting in 60 Minutes - A Brief Introduction</td>\n",
       "      <td>https://www.udemy.com/accounting-in-60-minutes...</td>\n",
       "      <td>0.0</td>\n",
       "      <td>56659.0</td>\n",
       "      <td>4397.0</td>\n",
       "      <td>16.0</td>\n",
       "      <td>Beginner Level</td>\n",
       "      <td>0.95</td>\n",
       "      <td>1.5</td>\n",
       "      <td>2013-04-07T21:39:25Z</td>\n",
       "      <td>Business Finance</td>\n",
       "    </tr>\n",
       "    <tr>\n",
       "      <th>2</th>\n",
       "      <td>133536.0</td>\n",
       "      <td>Stock Market Investing for Beginners</td>\n",
       "      <td>https://www.udemy.com/the-beginners-guide-to-t...</td>\n",
       "      <td>0.0</td>\n",
       "      <td>50855.0</td>\n",
       "      <td>2698.0</td>\n",
       "      <td>15.0</td>\n",
       "      <td>All Levels</td>\n",
       "      <td>0.91</td>\n",
       "      <td>1.5</td>\n",
       "      <td>2013-12-25T19:53:34Z</td>\n",
       "      <td>Business Finance</td>\n",
       "    </tr>\n",
       "    <tr>\n",
       "      <th>3</th>\n",
       "      <td>151668.0</td>\n",
       "      <td>Introduction to Financial Modeling</td>\n",
       "      <td>https://www.udemy.com/financial-modeling-asimp...</td>\n",
       "      <td>0.0</td>\n",
       "      <td>29167.0</td>\n",
       "      <td>1463.0</td>\n",
       "      <td>8.0</td>\n",
       "      <td>All Levels</td>\n",
       "      <td>0.18</td>\n",
       "      <td>1.5</td>\n",
       "      <td>2014-05-27T16:22:16Z</td>\n",
       "      <td>Business Finance</td>\n",
       "    </tr>\n",
       "    <tr>\n",
       "      <th>4</th>\n",
       "      <td>648826.0</td>\n",
       "      <td>The Complete Financial Analyst Course 2017</td>\n",
       "      <td>https://www.udemy.com/the-complete-financial-a...</td>\n",
       "      <td>195.0</td>\n",
       "      <td>24481.0</td>\n",
       "      <td>2347.0</td>\n",
       "      <td>174.0</td>\n",
       "      <td>All Levels</td>\n",
       "      <td>0.37</td>\n",
       "      <td>10.0</td>\n",
       "      <td>2016-01-21T01:38:48Z</td>\n",
       "      <td>Business Finance</td>\n",
       "    </tr>\n",
       "    <tr>\n",
       "      <th>...</th>\n",
       "      <td>...</td>\n",
       "      <td>...</td>\n",
       "      <td>...</td>\n",
       "      <td>...</td>\n",
       "      <td>...</td>\n",
       "      <td>...</td>\n",
       "      <td>...</td>\n",
       "      <td>...</td>\n",
       "      <td>...</td>\n",
       "      <td>...</td>\n",
       "      <td>...</td>\n",
       "      <td>...</td>\n",
       "    </tr>\n",
       "    <tr>\n",
       "      <th>3676</th>\n",
       "      <td>1177156.0</td>\n",
       "      <td>Como Criar Logos de Sucesso - Start Designer</td>\n",
       "      <td>https://www.udemy.com/como-criar-logos-de-suce...</td>\n",
       "      <td>25.0</td>\n",
       "      <td>0.0</td>\n",
       "      <td>0.0</td>\n",
       "      <td>29.0</td>\n",
       "      <td>All Levels</td>\n",
       "      <td>0.76</td>\n",
       "      <td>6.0</td>\n",
       "      <td>2017-06-30T05:48:57Z</td>\n",
       "      <td>Graphic Design</td>\n",
       "    </tr>\n",
       "    <tr>\n",
       "      <th>3677</th>\n",
       "      <td>1128984.0</td>\n",
       "      <td>Photoshop - Aprende a Transformar Imágenes</td>\n",
       "      <td>https://www.udemy.com/photoshop-aprende-a-tran...</td>\n",
       "      <td>20.0</td>\n",
       "      <td>0.0</td>\n",
       "      <td>0.0</td>\n",
       "      <td>14.0</td>\n",
       "      <td>All Levels</td>\n",
       "      <td>0.76</td>\n",
       "      <td>1.0</td>\n",
       "      <td>2017-03-08T18:05:51Z</td>\n",
       "      <td>Graphic Design</td>\n",
       "    </tr>\n",
       "    <tr>\n",
       "      <th>3678</th>\n",
       "      <td>177614.0</td>\n",
       "      <td>Super Textos con Photoshop</td>\n",
       "      <td>https://www.udemy.com/super-textos-con-photoshop/</td>\n",
       "      <td>20.0</td>\n",
       "      <td>0.0</td>\n",
       "      <td>0.0</td>\n",
       "      <td>8.0</td>\n",
       "      <td>All Levels</td>\n",
       "      <td>0.76</td>\n",
       "      <td>2.0</td>\n",
       "      <td>2014-03-31T20:31:04Z</td>\n",
       "      <td>Graphic Design</td>\n",
       "    </tr>\n",
       "    <tr>\n",
       "      <th>3679</th>\n",
       "      <td>1137738.0</td>\n",
       "      <td>Photoshop - Creación de Efectos</td>\n",
       "      <td>https://www.udemy.com/photoshop-creacion-de-ef...</td>\n",
       "      <td>20.0</td>\n",
       "      <td>0.0</td>\n",
       "      <td>0.0</td>\n",
       "      <td>11.0</td>\n",
       "      <td>Beginner Level</td>\n",
       "      <td>0.76</td>\n",
       "      <td>1.0</td>\n",
       "      <td>2017-03-24T20:06:57Z</td>\n",
       "      <td>Graphic Design</td>\n",
       "    </tr>\n",
       "    <tr>\n",
       "      <th>3680</th>\n",
       "      <td>185528.0</td>\n",
       "      <td>Iníciate en Microstation</td>\n",
       "      <td>https://www.udemy.com/iniciate-en-microstation/</td>\n",
       "      <td>20.0</td>\n",
       "      <td>0.0</td>\n",
       "      <td>0.0</td>\n",
       "      <td>10.0</td>\n",
       "      <td>Beginner Level</td>\n",
       "      <td>0.76</td>\n",
       "      <td>1.0</td>\n",
       "      <td>2014-04-15T21:52:12Z</td>\n",
       "      <td>Graphic Design</td>\n",
       "    </tr>\n",
       "  </tbody>\n",
       "</table>\n",
       "<p>3681 rows × 12 columns</p>\n",
       "</div>"
      ],
      "text/plain": [
       "             0                                                  1   \\\n",
       "0       49798.0  Bitcoin or How I Learned to Stop Worrying and ...   \n",
       "1       48841.0    Accounting in 60 Minutes - A Brief Introduction   \n",
       "2      133536.0               Stock Market Investing for Beginners   \n",
       "3      151668.0                 Introduction to Financial Modeling   \n",
       "4      648826.0         The Complete Financial Analyst Course 2017   \n",
       "...         ...                                                ...   \n",
       "3676  1177156.0       Como Criar Logos de Sucesso - Start Designer   \n",
       "3677  1128984.0         Photoshop - Aprende a Transformar Imágenes   \n",
       "3678   177614.0                         Super Textos con Photoshop   \n",
       "3679  1137738.0                    Photoshop - Creación de Efectos   \n",
       "3680   185528.0                           Iníciate en Microstation   \n",
       "\n",
       "                                                     2      3        4   \\\n",
       "0     https://www.udemy.com/bitcoin-or-how-i-learned...    0.0  65576.0   \n",
       "1     https://www.udemy.com/accounting-in-60-minutes...    0.0  56659.0   \n",
       "2     https://www.udemy.com/the-beginners-guide-to-t...    0.0  50855.0   \n",
       "3     https://www.udemy.com/financial-modeling-asimp...    0.0  29167.0   \n",
       "4     https://www.udemy.com/the-complete-financial-a...  195.0  24481.0   \n",
       "...                                                 ...    ...      ...   \n",
       "3676  https://www.udemy.com/como-criar-logos-de-suce...   25.0      0.0   \n",
       "3677  https://www.udemy.com/photoshop-aprende-a-tran...   20.0      0.0   \n",
       "3678  https://www.udemy.com/super-textos-con-photoshop/   20.0      0.0   \n",
       "3679  https://www.udemy.com/photoshop-creacion-de-ef...   20.0      0.0   \n",
       "3680    https://www.udemy.com/iniciate-en-microstation/   20.0      0.0   \n",
       "\n",
       "          5      6               7     8     9                     10  \\\n",
       "0      936.0   24.0      All Levels  0.56   8.0  2013-04-20T02:25:22Z   \n",
       "1     4397.0   16.0  Beginner Level  0.95   1.5  2013-04-07T21:39:25Z   \n",
       "2     2698.0   15.0      All Levels  0.91   1.5  2013-12-25T19:53:34Z   \n",
       "3     1463.0    8.0      All Levels  0.18   1.5  2014-05-27T16:22:16Z   \n",
       "4     2347.0  174.0      All Levels  0.37  10.0  2016-01-21T01:38:48Z   \n",
       "...      ...    ...             ...   ...   ...                   ...   \n",
       "3676     0.0   29.0      All Levels  0.76   6.0  2017-06-30T05:48:57Z   \n",
       "3677     0.0   14.0      All Levels  0.76   1.0  2017-03-08T18:05:51Z   \n",
       "3678     0.0    8.0      All Levels  0.76   2.0  2014-03-31T20:31:04Z   \n",
       "3679     0.0   11.0  Beginner Level  0.76   1.0  2017-03-24T20:06:57Z   \n",
       "3680     0.0   10.0  Beginner Level  0.76   1.0  2014-04-15T21:52:12Z   \n",
       "\n",
       "                    11  \n",
       "0     Business Finance  \n",
       "1     Business Finance  \n",
       "2     Business Finance  \n",
       "3     Business Finance  \n",
       "4     Business Finance  \n",
       "...                ...  \n",
       "3676    Graphic Design  \n",
       "3677    Graphic Design  \n",
       "3678    Graphic Design  \n",
       "3679    Graphic Design  \n",
       "3680    Graphic Design  \n",
       "\n",
       "[3681 rows x 12 columns]"
      ]
     },
     "execution_count": 3,
     "metadata": {},
     "output_type": "execute_result"
    }
   ],
   "source": [
    "data_consolidation = np.vstack([business_finance, music_instruments, web_development, graphic_design])\n",
    "data = pd.DataFrame(data_consolidation)\n",
    "pd.DataFrame(data)"
   ]
  },
  {
   "cell_type": "markdown",
   "id": "96bdade8",
   "metadata": {},
   "source": [
    "### 4. DATA CLEANING\n",
    "\n",
    "1. To ensure to have clear and concise names for headers"
   ]
  },
  {
   "cell_type": "code",
   "execution_count": 4,
   "id": "cc1ce3dd",
   "metadata": {},
   "outputs": [
    {
     "data": {
      "text/html": [
       "<div>\n",
       "<style scoped>\n",
       "    .dataframe tbody tr th:only-of-type {\n",
       "        vertical-align: middle;\n",
       "    }\n",
       "\n",
       "    .dataframe tbody tr th {\n",
       "        vertical-align: top;\n",
       "    }\n",
       "\n",
       "    .dataframe thead th {\n",
       "        text-align: right;\n",
       "    }\n",
       "</style>\n",
       "<table border=\"1\" class=\"dataframe\">\n",
       "  <thead>\n",
       "    <tr style=\"text-align: right;\">\n",
       "      <th></th>\n",
       "      <th>course_id</th>\n",
       "      <th>course_title</th>\n",
       "      <th>url</th>\n",
       "      <th>price</th>\n",
       "      <th>num_subscribers</th>\n",
       "      <th>num_reviews</th>\n",
       "      <th>num_lectures</th>\n",
       "      <th>level</th>\n",
       "      <th>Rating</th>\n",
       "      <th>content_duration</th>\n",
       "      <th>published_timestamp</th>\n",
       "      <th>subject</th>\n",
       "    </tr>\n",
       "  </thead>\n",
       "  <tbody>\n",
       "    <tr>\n",
       "      <th>0</th>\n",
       "      <td>49798.0</td>\n",
       "      <td>Bitcoin or How I Learned to Stop Worrying and ...</td>\n",
       "      <td>https://www.udemy.com/bitcoin-or-how-i-learned...</td>\n",
       "      <td>0.0</td>\n",
       "      <td>65576.0</td>\n",
       "      <td>936.0</td>\n",
       "      <td>24.0</td>\n",
       "      <td>All Levels</td>\n",
       "      <td>0.56</td>\n",
       "      <td>8.0</td>\n",
       "      <td>2013-04-20T02:25:22Z</td>\n",
       "      <td>Business Finance</td>\n",
       "    </tr>\n",
       "    <tr>\n",
       "      <th>1</th>\n",
       "      <td>48841.0</td>\n",
       "      <td>Accounting in 60 Minutes - A Brief Introduction</td>\n",
       "      <td>https://www.udemy.com/accounting-in-60-minutes...</td>\n",
       "      <td>0.0</td>\n",
       "      <td>56659.0</td>\n",
       "      <td>4397.0</td>\n",
       "      <td>16.0</td>\n",
       "      <td>Beginner Level</td>\n",
       "      <td>0.95</td>\n",
       "      <td>1.5</td>\n",
       "      <td>2013-04-07T21:39:25Z</td>\n",
       "      <td>Business Finance</td>\n",
       "    </tr>\n",
       "    <tr>\n",
       "      <th>2</th>\n",
       "      <td>133536.0</td>\n",
       "      <td>Stock Market Investing for Beginners</td>\n",
       "      <td>https://www.udemy.com/the-beginners-guide-to-t...</td>\n",
       "      <td>0.0</td>\n",
       "      <td>50855.0</td>\n",
       "      <td>2698.0</td>\n",
       "      <td>15.0</td>\n",
       "      <td>All Levels</td>\n",
       "      <td>0.91</td>\n",
       "      <td>1.5</td>\n",
       "      <td>2013-12-25T19:53:34Z</td>\n",
       "      <td>Business Finance</td>\n",
       "    </tr>\n",
       "    <tr>\n",
       "      <th>3</th>\n",
       "      <td>151668.0</td>\n",
       "      <td>Introduction to Financial Modeling</td>\n",
       "      <td>https://www.udemy.com/financial-modeling-asimp...</td>\n",
       "      <td>0.0</td>\n",
       "      <td>29167.0</td>\n",
       "      <td>1463.0</td>\n",
       "      <td>8.0</td>\n",
       "      <td>All Levels</td>\n",
       "      <td>0.18</td>\n",
       "      <td>1.5</td>\n",
       "      <td>2014-05-27T16:22:16Z</td>\n",
       "      <td>Business Finance</td>\n",
       "    </tr>\n",
       "    <tr>\n",
       "      <th>4</th>\n",
       "      <td>648826.0</td>\n",
       "      <td>The Complete Financial Analyst Course 2017</td>\n",
       "      <td>https://www.udemy.com/the-complete-financial-a...</td>\n",
       "      <td>195.0</td>\n",
       "      <td>24481.0</td>\n",
       "      <td>2347.0</td>\n",
       "      <td>174.0</td>\n",
       "      <td>All Levels</td>\n",
       "      <td>0.37</td>\n",
       "      <td>10.0</td>\n",
       "      <td>2016-01-21T01:38:48Z</td>\n",
       "      <td>Business Finance</td>\n",
       "    </tr>\n",
       "  </tbody>\n",
       "</table>\n",
       "</div>"
      ],
      "text/plain": [
       "  course_id                                       course_title  \\\n",
       "0   49798.0  Bitcoin or How I Learned to Stop Worrying and ...   \n",
       "1   48841.0    Accounting in 60 Minutes - A Brief Introduction   \n",
       "2  133536.0               Stock Market Investing for Beginners   \n",
       "3  151668.0                 Introduction to Financial Modeling   \n",
       "4  648826.0         The Complete Financial Analyst Course 2017   \n",
       "\n",
       "                                                 url  price num_subscribers  \\\n",
       "0  https://www.udemy.com/bitcoin-or-how-i-learned...    0.0         65576.0   \n",
       "1  https://www.udemy.com/accounting-in-60-minutes...    0.0         56659.0   \n",
       "2  https://www.udemy.com/the-beginners-guide-to-t...    0.0         50855.0   \n",
       "3  https://www.udemy.com/financial-modeling-asimp...    0.0         29167.0   \n",
       "4  https://www.udemy.com/the-complete-financial-a...  195.0         24481.0   \n",
       "\n",
       "  num_reviews num_lectures           level Rating content_duration  \\\n",
       "0       936.0         24.0      All Levels   0.56              8.0   \n",
       "1      4397.0         16.0  Beginner Level   0.95              1.5   \n",
       "2      2698.0         15.0      All Levels   0.91              1.5   \n",
       "3      1463.0          8.0      All Levels   0.18              1.5   \n",
       "4      2347.0        174.0      All Levels   0.37             10.0   \n",
       "\n",
       "    published_timestamp           subject  \n",
       "0  2013-04-20T02:25:22Z  Business Finance  \n",
       "1  2013-04-07T21:39:25Z  Business Finance  \n",
       "2  2013-12-25T19:53:34Z  Business Finance  \n",
       "3  2014-05-27T16:22:16Z  Business Finance  \n",
       "4  2016-01-21T01:38:48Z  Business Finance  "
      ]
     },
     "execution_count": 4,
     "metadata": {},
     "output_type": "execute_result"
    }
   ],
   "source": [
    "data.columns=['course_id', 'course_title', 'url', 'price', 'num_subscribers', 'num_reviews', 'num_lectures', \n",
    "              'level','Rating','content_duration','published_timestamp','subject']\n",
    "data.head()"
   ]
  },
  {
   "cell_type": "markdown",
   "id": "a4a1c5d2",
   "metadata": {},
   "source": [
    "2. To delete any blank cells"
   ]
  },
  {
   "cell_type": "code",
   "execution_count": 5,
   "id": "2c5bb38b",
   "metadata": {},
   "outputs": [],
   "source": [
    "data = data.dropna()"
   ]
  },
  {
   "cell_type": "markdown",
   "id": "659993dc",
   "metadata": {},
   "source": [
    "3. To remove any duplicates"
   ]
  },
  {
   "cell_type": "code",
   "execution_count": 6,
   "id": "15001917",
   "metadata": {},
   "outputs": [],
   "source": [
    "data = data.drop_duplicates()"
   ]
  },
  {
   "cell_type": "markdown",
   "id": "56b0bf10",
   "metadata": {},
   "source": [
    "4. To ensure that the data is consistent so that we can easily understand what each column represents"
   ]
  },
  {
   "cell_type": "code",
   "execution_count": 7,
   "id": "9bb867a7",
   "metadata": {},
   "outputs": [],
   "source": [
    "data['subject'] = data['subject'].str.replace('Subject: Web Development', \n",
    "                                              'Web Development')"
   ]
  },
  {
   "cell_type": "markdown",
   "id": "a2d9831e",
   "metadata": {},
   "source": [
    "### 4. DATA ANALYSIS AND VISUALIZATION\n",
    "\n",
    "1. The total number of subscribers for each subject\n",
    "- Table"
   ]
  },
  {
   "cell_type": "code",
   "execution_count": 8,
   "id": "04141778",
   "metadata": {
    "scrolled": false
   },
   "outputs": [
    {
     "data": {
      "text/html": [
       "<div>\n",
       "<style scoped>\n",
       "    .dataframe tbody tr th:only-of-type {\n",
       "        vertical-align: middle;\n",
       "    }\n",
       "\n",
       "    .dataframe tbody tr th {\n",
       "        vertical-align: top;\n",
       "    }\n",
       "\n",
       "    .dataframe thead th {\n",
       "        text-align: right;\n",
       "    }\n",
       "</style>\n",
       "<table border=\"1\" class=\"dataframe\">\n",
       "  <thead>\n",
       "    <tr style=\"text-align: right;\">\n",
       "      <th></th>\n",
       "      <th>num_subscribers</th>\n",
       "    </tr>\n",
       "    <tr>\n",
       "      <th>subject</th>\n",
       "      <th></th>\n",
       "    </tr>\n",
       "  </thead>\n",
       "  <tbody>\n",
       "    <tr>\n",
       "      <th>Business Finance</th>\n",
       "      <td>1868711.0</td>\n",
       "    </tr>\n",
       "    <tr>\n",
       "      <th>Graphic Design</th>\n",
       "      <td>1063148.0</td>\n",
       "    </tr>\n",
       "    <tr>\n",
       "      <th>Musical Instruments</th>\n",
       "      <td>846689</td>\n",
       "    </tr>\n",
       "    <tr>\n",
       "      <th>Web Development</th>\n",
       "      <td>7981935.0</td>\n",
       "    </tr>\n",
       "  </tbody>\n",
       "</table>\n",
       "</div>"
      ],
      "text/plain": [
       "                    num_subscribers\n",
       "subject                            \n",
       "Business Finance          1868711.0\n",
       "Graphic Design            1063148.0\n",
       "Musical Instruments          846689\n",
       "Web Development           7981935.0"
      ]
     },
     "execution_count": 8,
     "metadata": {},
     "output_type": "execute_result"
    }
   ],
   "source": [
    "first_analysis = data.groupby(['subject'])['num_subscribers'].sum()\n",
    "pd.DataFrame(first_analysis)"
   ]
  },
  {
   "cell_type": "markdown",
   "id": "5921f9ad",
   "metadata": {},
   "source": [
    "- Chart"
   ]
  },
  {
   "cell_type": "code",
   "execution_count": 9,
   "id": "1ba3a623",
   "metadata": {},
   "outputs": [
    {
     "data": {
      "image/png": "[encoded data removed]",
      "text/plain": [
       "<Figure size 576x576 with 1 Axes>"
      ]
     },
     "metadata": {},
     "output_type": "display_data"
    }
   ],
   "source": [
    "plt.subplots(figsize=(8,8))\n",
    "plt.title('The total number of subscribers for each subject')\n",
    "plt.pie(first_analysis, radius=0.7, labels=['Business Finance', 'Graphic Design', \n",
    "                                            'Music Instruments', 'Web Development'])\n",
    "plt.legend()\n",
    "plt.show()"
   ]
  },
  {
   "cell_type": "markdown",
   "id": "a31c44ab",
   "metadata": {},
   "source": [
    "2. The average number of subscribers for each subject\n",
    "- Table"
   ]
  },
  {
   "cell_type": "code",
   "execution_count": 10,
   "id": "ac8b2305",
   "metadata": {
    "scrolled": true
   },
   "outputs": [
    {
     "data": {
      "text/html": [
       "<div>\n",
       "<style scoped>\n",
       "    .dataframe tbody tr th:only-of-type {\n",
       "        vertical-align: middle;\n",
       "    }\n",
       "\n",
       "    .dataframe tbody tr th {\n",
       "        vertical-align: top;\n",
       "    }\n",
       "\n",
       "    .dataframe thead th {\n",
       "        text-align: right;\n",
       "    }\n",
       "</style>\n",
       "<table border=\"1\" class=\"dataframe\">\n",
       "  <thead>\n",
       "    <tr style=\"text-align: right;\">\n",
       "      <th></th>\n",
       "      <th>num_subscribers</th>\n",
       "    </tr>\n",
       "    <tr>\n",
       "      <th>subject</th>\n",
       "      <th></th>\n",
       "    </tr>\n",
       "  </thead>\n",
       "  <tbody>\n",
       "    <tr>\n",
       "      <th>Business Finance</th>\n",
       "      <td>1569.03</td>\n",
       "    </tr>\n",
       "    <tr>\n",
       "      <th>Graphic Design</th>\n",
       "      <td>1766.03</td>\n",
       "    </tr>\n",
       "    <tr>\n",
       "      <th>Musical Instruments</th>\n",
       "      <td>1245.13</td>\n",
       "    </tr>\n",
       "    <tr>\n",
       "      <th>Web Development</th>\n",
       "      <td>6635.02</td>\n",
       "    </tr>\n",
       "  </tbody>\n",
       "</table>\n",
       "</div>"
      ],
      "text/plain": [
       "                     num_subscribers\n",
       "subject                             \n",
       "Business Finance             1569.03\n",
       "Graphic Design               1766.03\n",
       "Musical Instruments          1245.13\n",
       "Web Development              6635.02"
      ]
     },
     "execution_count": 10,
     "metadata": {},
     "output_type": "execute_result"
    }
   ],
   "source": [
    "second_analysis = data.groupby(['subject'])['num_subscribers'].mean().round(2)\n",
    "pd.DataFrame(second_analysis)"
   ]
  },
  {
   "cell_type": "markdown",
   "id": "87b1f5d6",
   "metadata": {},
   "source": [
    "- Chart"
   ]
  },
  {
   "cell_type": "code",
   "execution_count": 11,
   "id": "de8b2746",
   "metadata": {},
   "outputs": [
    {
     "data": {
      "image/png": "[encoded data removed]",
      "text/plain": [
       "<Figure size 1008x432 with 1 Axes>"
      ]
     },
     "metadata": {
      "needs_background": "light"
     },
     "output_type": "display_data"
    }
   ],
   "source": [
    "plt.subplots(figsize = (14,6))\n",
    "plt.title('The average number of subscribers for each subject')\n",
    "plt.barh(np.arange(len(second_analysis)), second_analysis, height=0.5, \n",
    "        color=['blue', 'red', 'yellow', 'green'], \n",
    "        tick_label=['Business Finance', 'Graphic Design', \n",
    "                    'Musical Instruments', 'Web Development'])\n",
    "plt.show()"
   ]
  },
  {
   "cell_type": "markdown",
   "id": "c6501484",
   "metadata": {},
   "source": [
    "3. The average cost per subject at each level\n",
    "- Table"
   ]
  },
  {
   "cell_type": "code",
   "execution_count": 12,
   "id": "65419a46",
   "metadata": {},
   "outputs": [
    {
     "data": {
      "text/html": [
       "<div>\n",
       "<style scoped>\n",
       "    .dataframe tbody tr th:only-of-type {\n",
       "        vertical-align: middle;\n",
       "    }\n",
       "\n",
       "    .dataframe tbody tr th {\n",
       "        vertical-align: top;\n",
       "    }\n",
       "\n",
       "    .dataframe thead th {\n",
       "        text-align: right;\n",
       "    }\n",
       "</style>\n",
       "<table border=\"1\" class=\"dataframe\">\n",
       "  <thead>\n",
       "    <tr style=\"text-align: right;\">\n",
       "      <th></th>\n",
       "      <th></th>\n",
       "      <th>price</th>\n",
       "    </tr>\n",
       "    <tr>\n",
       "      <th>subject</th>\n",
       "      <th>level</th>\n",
       "      <th></th>\n",
       "    </tr>\n",
       "  </thead>\n",
       "  <tbody>\n",
       "    <tr>\n",
       "      <th rowspan=\"4\" valign=\"top\">Business Finance</th>\n",
       "      <th>All Levels</th>\n",
       "      <td>70.20</td>\n",
       "    </tr>\n",
       "    <tr>\n",
       "      <th>Beginner Level</th>\n",
       "      <td>68.73</td>\n",
       "    </tr>\n",
       "    <tr>\n",
       "      <th>Expert Level</th>\n",
       "      <td>65.80</td>\n",
       "    </tr>\n",
       "    <tr>\n",
       "      <th>Intermediate Level</th>\n",
       "      <td>62.01</td>\n",
       "    </tr>\n",
       "    <tr>\n",
       "      <th rowspan=\"4\" valign=\"top\">Graphic Design</th>\n",
       "      <th>All Levels</th>\n",
       "      <td>62.12</td>\n",
       "    </tr>\n",
       "    <tr>\n",
       "      <th>Beginner Level</th>\n",
       "      <td>50.68</td>\n",
       "    </tr>\n",
       "    <tr>\n",
       "      <th>Expert Level</th>\n",
       "      <td>28.57</td>\n",
       "    </tr>\n",
       "    <tr>\n",
       "      <th>Intermediate Level</th>\n",
       "      <td>59.41</td>\n",
       "    </tr>\n",
       "    <tr>\n",
       "      <th rowspan=\"4\" valign=\"top\">Musical Instruments</th>\n",
       "      <th>All Levels</th>\n",
       "      <td>49.58</td>\n",
       "    </tr>\n",
       "    <tr>\n",
       "      <th>Beginner Level</th>\n",
       "      <td>48.98</td>\n",
       "    </tr>\n",
       "    <tr>\n",
       "      <th>Expert Level</th>\n",
       "      <td>48.33</td>\n",
       "    </tr>\n",
       "    <tr>\n",
       "      <th>Intermediate Level</th>\n",
       "      <td>51.60</td>\n",
       "    </tr>\n",
       "    <tr>\n",
       "      <th rowspan=\"4\" valign=\"top\">Web Development</th>\n",
       "      <th>All Levels</th>\n",
       "      <td>74.55</td>\n",
       "    </tr>\n",
       "    <tr>\n",
       "      <th>Beginner Level</th>\n",
       "      <td>78.54</td>\n",
       "    </tr>\n",
       "    <tr>\n",
       "      <th>Expert Level</th>\n",
       "      <td>67.14</td>\n",
       "    </tr>\n",
       "    <tr>\n",
       "      <th>Intermediate Level</th>\n",
       "      <td>85.07</td>\n",
       "    </tr>\n",
       "  </tbody>\n",
       "</table>\n",
       "</div>"
      ],
      "text/plain": [
       "                                        price\n",
       "subject             level                    \n",
       "Business Finance    All Levels          70.20\n",
       "                    Beginner Level      68.73\n",
       "                    Expert Level        65.80\n",
       "                    Intermediate Level  62.01\n",
       "Graphic Design      All Levels          62.12\n",
       "                    Beginner Level      50.68\n",
       "                    Expert Level        28.57\n",
       "                    Intermediate Level  59.41\n",
       "Musical Instruments All Levels          49.58\n",
       "                    Beginner Level      48.98\n",
       "                    Expert Level        48.33\n",
       "                    Intermediate Level  51.60\n",
       "Web Development     All Levels          74.55\n",
       "                    Beginner Level      78.54\n",
       "                    Expert Level        67.14\n",
       "                    Intermediate Level  85.07"
      ]
     },
     "execution_count": 12,
     "metadata": {},
     "output_type": "execute_result"
    }
   ],
   "source": [
    "third_analysis = data.groupby(['subject','level'])['price'].mean().round(2)\n",
    "pd.DataFrame(third_analysis)"
   ]
  },
  {
   "cell_type": "markdown",
   "id": "82ed10ad",
   "metadata": {},
   "source": [
    "- Chart"
   ]
  },
  {
   "cell_type": "code",
   "execution_count": 13,
   "id": "e859908c",
   "metadata": {},
   "outputs": [
    {
     "data": {
      "image/png": "[encoded data removed]",
      "text/plain": [
       "<Figure size 1008x576 with 1 Axes>"
      ]
     },
     "metadata": {
      "needs_background": "light"
     },
     "output_type": "display_data"
    }
   ],
   "source": [
    "plt.subplots(figsize=(14,8))\n",
    "plt.title('The average cost per subject at each level')\n",
    "plt.barh(np.arange(len(third_analysis)), third_analysis, height=0.5, \n",
    "        color=['blue', 'red', 'yellow', 'green'])\n",
    "plt.xlabel('Average cost')\n",
    "plt.yticks([0, 4, 8, 12], labels=['Business Finance', 'Graphic Design', \n",
    "                                  'Musical Instruments', 'Web Development'])\n",
    "plt.show()"
   ]
  },
  {
   "cell_type": "markdown",
   "id": "97f29825",
   "metadata": {},
   "source": [
    "4. The average content duration for each subject\n",
    "- Table"
   ]
  },
  {
   "cell_type": "code",
   "execution_count": 14,
   "id": "5a68ac84",
   "metadata": {},
   "outputs": [
    {
     "data": {
      "text/html": [
       "<div>\n",
       "<style scoped>\n",
       "    .dataframe tbody tr th:only-of-type {\n",
       "        vertical-align: middle;\n",
       "    }\n",
       "\n",
       "    .dataframe tbody tr th {\n",
       "        vertical-align: top;\n",
       "    }\n",
       "\n",
       "    .dataframe thead th {\n",
       "        text-align: right;\n",
       "    }\n",
       "</style>\n",
       "<table border=\"1\" class=\"dataframe\">\n",
       "  <thead>\n",
       "    <tr style=\"text-align: right;\">\n",
       "      <th></th>\n",
       "      <th>content_duration</th>\n",
       "    </tr>\n",
       "    <tr>\n",
       "      <th>subject</th>\n",
       "      <th></th>\n",
       "    </tr>\n",
       "  </thead>\n",
       "  <tbody>\n",
       "    <tr>\n",
       "      <th>Business Finance</th>\n",
       "      <td>3.56</td>\n",
       "    </tr>\n",
       "    <tr>\n",
       "      <th>Graphic Design</th>\n",
       "      <td>3.59</td>\n",
       "    </tr>\n",
       "    <tr>\n",
       "      <th>Musical Instruments</th>\n",
       "      <td>2.85</td>\n",
       "    </tr>\n",
       "    <tr>\n",
       "      <th>Web Development</th>\n",
       "      <td>5.59</td>\n",
       "    </tr>\n",
       "  </tbody>\n",
       "</table>\n",
       "</div>"
      ],
      "text/plain": [
       "                     content_duration\n",
       "subject                              \n",
       "Business Finance                 3.56\n",
       "Graphic Design                   3.59\n",
       "Musical Instruments              2.85\n",
       "Web Development                  5.59"
      ]
     },
     "execution_count": 14,
     "metadata": {},
     "output_type": "execute_result"
    }
   ],
   "source": [
    "fourth_analysis = data.groupby(['subject'])['content_duration'].mean().round(2)\n",
    "pd.DataFrame(fourth_analysis)"
   ]
  },
  {
   "cell_type": "markdown",
   "id": "303a2096",
   "metadata": {},
   "source": [
    "- Chart"
   ]
  },
  {
   "cell_type": "code",
   "execution_count": 15,
   "id": "48dcde4b",
   "metadata": {},
   "outputs": [
    {
     "data": {
      "image/png": "[encoded data removed]",
      "text/plain": [
       "<Figure size 1008x432 with 1 Axes>"
      ]
     },
     "metadata": {
      "needs_background": "light"
     },
     "output_type": "display_data"
    }
   ],
   "source": [
    "plt.subplots(figsize=(14,6))\n",
    "plt.title('The average content duration for each subject')\n",
    "plt.barh(np.arange(len(fourth_analysis)), fourth_analysis, height=0.5, \n",
    "        color=['blue', 'red', 'yellow', 'green'], \n",
    "        tick_label=['Business Finance', 'Graphic Design', \n",
    "                    'Musical Instruments', 'Web Development'])\n",
    "plt.show()"
   ]
  },
  {
   "cell_type": "markdown",
   "id": "1929b7f2",
   "metadata": {},
   "source": [
    "5. The average rating per subject at each level\n",
    "- Table"
   ]
  },
  {
   "cell_type": "code",
   "execution_count": 16,
   "id": "f9e9db5f",
   "metadata": {
    "scrolled": true
   },
   "outputs": [
    {
     "data": {
      "text/html": [
       "<div>\n",
       "<style scoped>\n",
       "    .dataframe tbody tr th:only-of-type {\n",
       "        vertical-align: middle;\n",
       "    }\n",
       "\n",
       "    .dataframe tbody tr th {\n",
       "        vertical-align: top;\n",
       "    }\n",
       "\n",
       "    .dataframe thead th {\n",
       "        text-align: right;\n",
       "    }\n",
       "</style>\n",
       "<table border=\"1\" class=\"dataframe\">\n",
       "  <thead>\n",
       "    <tr style=\"text-align: right;\">\n",
       "      <th></th>\n",
       "      <th></th>\n",
       "      <th>Rating</th>\n",
       "    </tr>\n",
       "    <tr>\n",
       "      <th>subject</th>\n",
       "      <th>level</th>\n",
       "      <th></th>\n",
       "    </tr>\n",
       "  </thead>\n",
       "  <tbody>\n",
       "    <tr>\n",
       "      <th rowspan=\"4\" valign=\"top\">Business Finance</th>\n",
       "      <th>All Levels</th>\n",
       "      <td>0.69</td>\n",
       "    </tr>\n",
       "    <tr>\n",
       "      <th>Beginner Level</th>\n",
       "      <td>0.69</td>\n",
       "    </tr>\n",
       "    <tr>\n",
       "      <th>Expert Level</th>\n",
       "      <td>0.70</td>\n",
       "    </tr>\n",
       "    <tr>\n",
       "      <th>Intermediate Level</th>\n",
       "      <td>0.70</td>\n",
       "    </tr>\n",
       "    <tr>\n",
       "      <th rowspan=\"4\" valign=\"top\">Graphic Design</th>\n",
       "      <th>All Levels</th>\n",
       "      <td>0.73</td>\n",
       "    </tr>\n",
       "    <tr>\n",
       "      <th>Beginner Level</th>\n",
       "      <td>0.73</td>\n",
       "    </tr>\n",
       "    <tr>\n",
       "      <th>Expert Level</th>\n",
       "      <td>0.88</td>\n",
       "    </tr>\n",
       "    <tr>\n",
       "      <th>Intermediate Level</th>\n",
       "      <td>0.72</td>\n",
       "    </tr>\n",
       "    <tr>\n",
       "      <th rowspan=\"4\" valign=\"top\">Musical Instruments</th>\n",
       "      <th>All Levels</th>\n",
       "      <td>0.31</td>\n",
       "    </tr>\n",
       "    <tr>\n",
       "      <th>Beginner Level</th>\n",
       "      <td>0.31</td>\n",
       "    </tr>\n",
       "    <tr>\n",
       "      <th>Expert Level</th>\n",
       "      <td>0.30</td>\n",
       "    </tr>\n",
       "    <tr>\n",
       "      <th>Intermediate Level</th>\n",
       "      <td>0.28</td>\n",
       "    </tr>\n",
       "    <tr>\n",
       "      <th rowspan=\"4\" valign=\"top\">Web Development</th>\n",
       "      <th>All Levels</th>\n",
       "      <td>0.65</td>\n",
       "    </tr>\n",
       "    <tr>\n",
       "      <th>Beginner Level</th>\n",
       "      <td>0.64</td>\n",
       "    </tr>\n",
       "    <tr>\n",
       "      <th>Expert Level</th>\n",
       "      <td>0.50</td>\n",
       "    </tr>\n",
       "    <tr>\n",
       "      <th>Intermediate Level</th>\n",
       "      <td>0.67</td>\n",
       "    </tr>\n",
       "  </tbody>\n",
       "</table>\n",
       "</div>"
      ],
      "text/plain": [
       "                                        Rating\n",
       "subject             level                     \n",
       "Business Finance    All Levels            0.69\n",
       "                    Beginner Level        0.69\n",
       "                    Expert Level          0.70\n",
       "                    Intermediate Level    0.70\n",
       "Graphic Design      All Levels            0.73\n",
       "                    Beginner Level        0.73\n",
       "                    Expert Level          0.88\n",
       "                    Intermediate Level    0.72\n",
       "Musical Instruments All Levels            0.31\n",
       "                    Beginner Level        0.31\n",
       "                    Expert Level          0.30\n",
       "                    Intermediate Level    0.28\n",
       "Web Development     All Levels            0.65\n",
       "                    Beginner Level        0.64\n",
       "                    Expert Level          0.50\n",
       "                    Intermediate Level    0.67"
      ]
     },
     "execution_count": 16,
     "metadata": {},
     "output_type": "execute_result"
    }
   ],
   "source": [
    "fifth_analysis = data.groupby(['subject', 'level'])['Rating'].mean().round(2)\n",
    "pd.DataFrame(fifth_analysis) "
   ]
  },
  {
   "cell_type": "markdown",
   "id": "bfad4814",
   "metadata": {},
   "source": [
    "- Chart"
   ]
  },
  {
   "cell_type": "code",
   "execution_count": 17,
   "id": "41b228ec",
   "metadata": {},
   "outputs": [
    {
     "data": {
      "image/png": "[encoded data removed]",
      "text/plain": [
       "<Figure size 1008x432 with 1 Axes>"
      ]
     },
     "metadata": {
      "needs_background": "light"
     },
     "output_type": "display_data"
    }
   ],
   "source": [
    "plt.subplots(figsize=(14,6))\n",
    "plt.title('The average rating per subject at each level')\n",
    "plt.bar(np.arange(len(fifth_analysis)), fifth_analysis, width=0.5, \n",
    "        color=['blue', 'red', 'yellow', 'green'])\n",
    "plt.ylabel('Average rating')\n",
    "plt.xticks([0, 4, 8, 12], labels=['Business Finance', 'Graphic Design', \n",
    "                                  'Musical Instruments', 'Web Development'])\n",
    "plt.xticks(rotation=90)\n",
    "plt.show()"
   ]
  }
 ],
 "metadata": {
  "kernelspec": {
   "display_name": "Python 3 (ipykernel)",
   "language": "python",
   "name": "python3"
  },
  "language_info": {
   "codemirror_mode": {
    "name": "ipython",
    "version": 3
   },
   "file_extension": ".py",
   "mimetype": "text/x-python",
   "name": "python",
   "nbconvert_exporter": "python",
   "pygments_lexer": "ipython3",
   "version": "3.9.12"
  }
 },
 "nbformat": 4,
 "nbformat_minor": 5
}
